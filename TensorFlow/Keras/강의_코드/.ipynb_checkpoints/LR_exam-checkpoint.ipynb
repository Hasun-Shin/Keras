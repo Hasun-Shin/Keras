{
 "cells": [
  {
   "cell_type": "code",
   "execution_count": 54,
   "metadata": {},
   "outputs": [],
   "source": [
    "import numpy as np\n",
    "import pandas as pd\n",
    "import matplotlib.pyplot as plt"
   ]
  },
  {
   "cell_type": "code",
   "execution_count": 55,
   "metadata": {},
   "outputs": [
    {
     "data": {
      "image/png": "[encoded data removed]",
      "text/plain": [
       "<Figure size 576x216 with 1 Axes>"
      ]
     },
     "metadata": {
      "needs_background": "light"
     },
     "output_type": "display_data"
    }
   ],
   "source": [
    "#공부 시간 x와 성적 y의 리스트 \n",
    "data = ([2,81],[4,93],[6,91],[8,97])\n",
    "x = [2,4,6,8]\n",
    "y=[i[1] for i in data]\n",
    "\n",
    "plt.figure(figsize=(8,3))#넓이, 높이 \n",
    "plt.scatter(x,y)\n",
    "plt.show()"
   ]
  },
  {
   "cell_type": "code",
   "execution_count": 56,
   "metadata": {},
   "outputs": [],
   "source": [
    "#리스트로 되어있는 x와 y의 넘파이 배열로 바꿔준다. \n",
    "x_data = np.array(x) #기본적으로 파이썬은 리스트 -->객체, np.array -->배열, 같은타입으로 만든다는 뜻. ,메모리, 속도 빨라짐. \n",
    "y_data = np.array(y)"
   ]
  },
  {
   "cell_type": "code",
   "execution_count": 57,
   "metadata": {},
   "outputs": [
    {
     "data": {
      "text/plain": [
       "int"
      ]
     },
     "execution_count": 57,
     "metadata": {},
     "output_type": "execute_result"
    }
   ],
   "source": [
    "#기울기 a와 절편 b의 값을 초기화 하자. \n",
    "a = 0\n",
    "b = 0\n",
    "\n",
    "\n",
    "type(a)"
   ]
  },
  {
   "cell_type": "code",
   "execution_count": 58,
   "metadata": {},
   "outputs": [],
   "source": [
    "#학습률\n",
    "#한번 학습할 때 얼마큼 이동할 것인가? #keras 는 Adm 을 쓴다. (알아서 결정해준다)\n",
    "\n",
    "lr = 0.04\n",
    "epoch= 8000"
   ]
  },
  {
   "cell_type": "code",
   "execution_count": 59,
   "metadata": {},
   "outputs": [
    {
     "name": "stdout",
     "output_type": "stream",
     "text": [
      "epoch=0, 기울기=18.5600, 절편=3.6200, a_diff=-464.0000\n",
      "epoch=100, 기울기=8.9416, 절편=39.3658, a_diff=1.0839\n",
      "epoch=200, 기울기=5.7649, 절편=58.3229, a_diff=0.5655\n",
      "epoch=300, 기울기=4.1076, 절편=68.2128, a_diff=0.2950\n",
      "epoch=400, 기울기=3.2430, 절편=73.3723, a_diff=0.1539\n",
      "epoch=500, 기울기=2.7920, 절편=76.0641, a_diff=0.0803\n",
      "epoch=600, 기울기=2.5567, 절편=77.4683, a_diff=0.0419\n",
      "epoch=700, 기울기=2.4339, 절편=78.2009, a_diff=0.0219\n",
      "epoch=800, 기울기=2.3699, 절편=78.5831, a_diff=0.0114\n",
      "epoch=900, 기울기=2.3364, 절편=78.7825, a_diff=0.0059\n",
      "epoch=1000, 기울기=2.3190, 절편=78.8865, a_diff=0.0031\n",
      "epoch=1100, 기울기=2.3099, 절편=78.9408, a_diff=0.0016\n",
      "epoch=1200, 기울기=2.3052, 절편=78.9691, a_diff=0.0008\n",
      "epoch=1300, 기울기=2.3027, 절편=78.9839, a_diff=0.0004\n",
      "epoch=1400, 기울기=2.3014, 절편=78.9916, a_diff=0.0002\n",
      "epoch=1500, 기울기=2.3007, 절편=78.9956, a_diff=0.0001\n",
      "epoch=1600, 기울기=2.3004, 절편=78.9977, a_diff=0.0001\n",
      "epoch=1700, 기울기=2.3002, 절편=78.9988, a_diff=0.0000\n",
      "epoch=1800, 기울기=2.3001, 절편=78.9994, a_diff=0.0000\n",
      "epoch=1900, 기울기=2.3001, 절편=78.9997, a_diff=0.0000\n",
      "epoch=2000, 기울기=2.3000, 절편=78.9998, a_diff=0.0000\n",
      "epoch=2100, 기울기=2.3000, 절편=78.9999, a_diff=0.0000\n",
      "epoch=2200, 기울기=2.3000, 절편=79.0000, a_diff=0.0000\n",
      "epoch=2300, 기울기=2.3000, 절편=79.0000, a_diff=0.0000\n",
      "epoch=2400, 기울기=2.3000, 절편=79.0000, a_diff=0.0000\n",
      "epoch=2500, 기울기=2.3000, 절편=79.0000, a_diff=0.0000\n",
      "epoch=2600, 기울기=2.3000, 절편=79.0000, a_diff=0.0000\n",
      "epoch=2700, 기울기=2.3000, 절편=79.0000, a_diff=0.0000\n",
      "epoch=2800, 기울기=2.3000, 절편=79.0000, a_diff=0.0000\n",
      "epoch=2900, 기울기=2.3000, 절편=79.0000, a_diff=0.0000\n",
      "epoch=3000, 기울기=2.3000, 절편=79.0000, a_diff=0.0000\n",
      "epoch=3100, 기울기=2.3000, 절편=79.0000, a_diff=0.0000\n",
      "epoch=3200, 기울기=2.3000, 절편=79.0000, a_diff=0.0000\n",
      "epoch=3300, 기울기=2.3000, 절편=79.0000, a_diff=0.0000\n",
      "epoch=3400, 기울기=2.3000, 절편=79.0000, a_diff=0.0000\n",
      "epoch=3500, 기울기=2.3000, 절편=79.0000, a_diff=0.0000\n",
      "epoch=3600, 기울기=2.3000, 절편=79.0000, a_diff=0.0000\n",
      "epoch=3700, 기울기=2.3000, 절편=79.0000, a_diff=0.0000\n",
      "epoch=3800, 기울기=2.3000, 절편=79.0000, a_diff=0.0000\n",
      "epoch=3900, 기울기=2.3000, 절편=79.0000, a_diff=0.0000\n",
      "epoch=4000, 기울기=2.3000, 절편=79.0000, a_diff=0.0000\n",
      "epoch=4100, 기울기=2.3000, 절편=79.0000, a_diff=0.0000\n",
      "epoch=4200, 기울기=2.3000, 절편=79.0000, a_diff=0.0000\n",
      "epoch=4300, 기울기=2.3000, 절편=79.0000, a_diff=0.0000\n",
      "epoch=4400, 기울기=2.3000, 절편=79.0000, a_diff=0.0000\n",
      "epoch=4500, 기울기=2.3000, 절편=79.0000, a_diff=0.0000\n",
      "epoch=4600, 기울기=2.3000, 절편=79.0000, a_diff=0.0000\n",
      "epoch=4700, 기울기=2.3000, 절편=79.0000, a_diff=0.0000\n",
      "epoch=4800, 기울기=2.3000, 절편=79.0000, a_diff=0.0000\n",
      "epoch=4900, 기울기=2.3000, 절편=79.0000, a_diff=-0.0000\n",
      "epoch=5000, 기울기=2.3000, 절편=79.0000, a_diff=-0.0000\n",
      "epoch=5100, 기울기=2.3000, 절편=79.0000, a_diff=-0.0000\n",
      "epoch=5200, 기울기=2.3000, 절편=79.0000, a_diff=-0.0000\n",
      "epoch=5300, 기울기=2.3000, 절편=79.0000, a_diff=-0.0000\n",
      "epoch=5400, 기울기=2.3000, 절편=79.0000, a_diff=-0.0000\n",
      "epoch=5500, 기울기=2.3000, 절편=79.0000, a_diff=-0.0000\n",
      "epoch=5600, 기울기=2.3000, 절편=79.0000, a_diff=-0.0000\n",
      "epoch=5700, 기울기=2.3000, 절편=79.0000, a_diff=-0.0000\n",
      "epoch=5800, 기울기=2.3000, 절편=79.0000, a_diff=-0.0000\n",
      "epoch=5900, 기울기=2.3000, 절편=79.0000, a_diff=-0.0000\n",
      "epoch=6000, 기울기=2.3000, 절편=79.0000, a_diff=-0.0000\n",
      "epoch=6100, 기울기=2.3000, 절편=79.0000, a_diff=-0.0000\n",
      "epoch=6200, 기울기=2.3000, 절편=79.0000, a_diff=-0.0000\n",
      "epoch=6300, 기울기=2.3000, 절편=79.0000, a_diff=-0.0000\n",
      "epoch=6400, 기울기=2.3000, 절편=79.0000, a_diff=-0.0000\n",
      "epoch=6500, 기울기=2.3000, 절편=79.0000, a_diff=-0.0000\n",
      "epoch=6600, 기울기=2.3000, 절편=79.0000, a_diff=-0.0000\n",
      "epoch=6700, 기울기=2.3000, 절편=79.0000, a_diff=-0.0000\n",
      "epoch=6800, 기울기=2.3000, 절편=79.0000, a_diff=-0.0000\n",
      "epoch=6900, 기울기=2.3000, 절편=79.0000, a_diff=-0.0000\n",
      "epoch=7000, 기울기=2.3000, 절편=79.0000, a_diff=-0.0000\n",
      "epoch=7100, 기울기=2.3000, 절편=79.0000, a_diff=-0.0000\n",
      "epoch=7200, 기울기=2.3000, 절편=79.0000, a_diff=-0.0000\n",
      "epoch=7300, 기울기=2.3000, 절편=79.0000, a_diff=-0.0000\n",
      "epoch=7400, 기울기=2.3000, 절편=79.0000, a_diff=-0.0000\n",
      "epoch=7500, 기울기=2.3000, 절편=79.0000, a_diff=-0.0000\n",
      "epoch=7600, 기울기=2.3000, 절편=79.0000, a_diff=-0.0000\n",
      "epoch=7700, 기울기=2.3000, 절편=79.0000, a_diff=-0.0000\n",
      "epoch=7800, 기울기=2.3000, 절편=79.0000, a_diff=-0.0000\n",
      "epoch=7900, 기울기=2.3000, 절편=79.0000, a_diff=-0.0000\n"
     ]
    }
   ],
   "source": [
    "#경사 하강법을 시작합시다.\n",
    "for i in range(epoch):\n",
    "    y_hat = a * x_data + b #y를 구하는 식을 세운다. , y hat은 예측값 \n",
    "    error = y_data - y_hat #오차 error = 실제값 - 예측값 \n",
    "    a_diff = -(1/len(x_data))*sum(x_data* (error)) #오차함수를 a로 미분한 값, a는 기울기, a는 가중치. \n",
    "#     print(a_diff)\n",
    "#     print(type(a_diff))\n",
    "    b_diff = -(1/len(x_data))*sum(error) #오차함수를 b로 미분한 값 \n",
    "    a = a-(lr*a_diff)#학습률을 곱해 기존의 a값을 업데이트함.\n",
    "    b = b -(lr*b_diff) #학습률을 곱해 기존의 b값을 업데이트함. \n",
    "    if i % 100 == 0 : #100번 반복할 때마다 현재의 a값, b값을 출력함. \n",
    "        print(\"epoch=%.f, 기울기=%.04f, 절편=%.04f, a_diff=%.04f\" % (i,a,b,a_diff))"
   ]
  },
  {
   "cell_type": "code",
   "execution_count": 71,
   "metadata": {},
   "outputs": [
    {
     "data": {
      "image/png": "[encoded data removed]",
      "text/plain": [
       "<Figure size 576x216 with 1 Axes>"
      ]
     },
     "metadata": {
      "needs_background": "light"
     },
     "output_type": "display_data"
    },
    {
     "name": "stdout",
     "output_type": "stream",
     "text": [
      "epoch=0, 기울기=0.2184, 절편=0.0485, a_diff=-21.8369\n",
      "epoch=100, 기울기=1.0257, 절편=0.2288, a_diff=0.0002\n",
      "epoch=200, 기울기=1.0255, 절편=0.2299, a_diff=0.0002\n",
      "epoch=300, 기울기=1.0252, 절편=0.2310, a_diff=0.0002\n",
      "epoch=400, 기울기=1.0250, 절편=0.2321, a_diff=0.0002\n",
      "epoch=500, 기울기=1.0248, 절편=0.2331, a_diff=0.0002\n",
      "epoch=600, 기울기=1.0245, 절편=0.2342, a_diff=0.0002\n",
      "epoch=700, 기울기=1.0243, 절편=0.2353, a_diff=0.0002\n",
      "epoch=800, 기울기=1.0240, 절편=0.2364, a_diff=0.0002\n",
      "epoch=900, 기울기=1.0238, 절편=0.2374, a_diff=0.0002\n",
      "epoch=1000, 기울기=1.0236, 절편=0.2385, a_diff=0.0002\n",
      "epoch=1100, 기울기=1.0233, 절편=0.2396, a_diff=0.0002\n",
      "epoch=1200, 기울기=1.0231, 절편=0.2407, a_diff=0.0002\n",
      "epoch=1300, 기울기=1.0229, 절편=0.2417, a_diff=0.0002\n",
      "epoch=1400, 기울기=1.0226, 절편=0.2428, a_diff=0.0002\n",
      "epoch=1500, 기울기=1.0224, 절편=0.2439, a_diff=0.0002\n",
      "epoch=1600, 기울기=1.0221, 절편=0.2449, a_diff=0.0002\n",
      "epoch=1700, 기울기=1.0219, 절편=0.2460, a_diff=0.0002\n",
      "epoch=1800, 기울기=1.0217, 절편=0.2471, a_diff=0.0002\n",
      "epoch=1900, 기울기=1.0214, 절편=0.2482, a_diff=0.0002\n",
      "epoch=2000, 기울기=1.0212, 절편=0.2492, a_diff=0.0002\n",
      "epoch=2100, 기울기=1.0210, 절편=0.2503, a_diff=0.0002\n",
      "epoch=2200, 기울기=1.0207, 절편=0.2514, a_diff=0.0002\n",
      "epoch=2300, 기울기=1.0205, 절편=0.2524, a_diff=0.0002\n",
      "epoch=2400, 기울기=1.0202, 절편=0.2535, a_diff=0.0002\n",
      "epoch=2500, 기울기=1.0200, 절편=0.2546, a_diff=0.0002\n",
      "epoch=2600, 기울기=1.0198, 절편=0.2556, a_diff=0.0002\n",
      "epoch=2700, 기울기=1.0195, 절편=0.2567, a_diff=0.0002\n",
      "epoch=2800, 기울기=1.0193, 절편=0.2578, a_diff=0.0002\n",
      "epoch=2900, 기울기=1.0191, 절편=0.2588, a_diff=0.0002\n",
      "epoch=3000, 기울기=1.0188, 절편=0.2599, a_diff=0.0002\n",
      "epoch=3100, 기울기=1.0186, 절편=0.2610, a_diff=0.0002\n",
      "epoch=3200, 기울기=1.0184, 절편=0.2620, a_diff=0.0002\n",
      "epoch=3300, 기울기=1.0181, 절편=0.2631, a_diff=0.0002\n",
      "epoch=3400, 기울기=1.0179, 절편=0.2641, a_diff=0.0002\n",
      "epoch=3500, 기울기=1.0176, 절편=0.2652, a_diff=0.0002\n",
      "epoch=3600, 기울기=1.0174, 절편=0.2663, a_diff=0.0002\n",
      "epoch=3700, 기울기=1.0172, 절편=0.2673, a_diff=0.0002\n",
      "epoch=3800, 기울기=1.0169, 절편=0.2684, a_diff=0.0002\n",
      "epoch=3900, 기울기=1.0167, 절편=0.2694, a_diff=0.0002\n",
      "epoch=4000, 기울기=1.0165, 절편=0.2705, a_diff=0.0002\n",
      "epoch=4100, 기울기=1.0162, 절편=0.2716, a_diff=0.0002\n",
      "epoch=4200, 기울기=1.0160, 절편=0.2726, a_diff=0.0002\n",
      "epoch=4300, 기울기=1.0158, 절편=0.2737, a_diff=0.0002\n",
      "epoch=4400, 기울기=1.0155, 절편=0.2747, a_diff=0.0002\n",
      "epoch=4500, 기울기=1.0153, 절편=0.2758, a_diff=0.0002\n",
      "epoch=4600, 기울기=1.0151, 절편=0.2769, a_diff=0.0002\n",
      "epoch=4700, 기울기=1.0148, 절편=0.2779, a_diff=0.0002\n",
      "epoch=4800, 기울기=1.0146, 절편=0.2790, a_diff=0.0002\n",
      "epoch=4900, 기울기=1.0144, 절편=0.2800, a_diff=0.0002\n"
     ]
    },
    {
     "data": {
      "image/png": "[encoded data removed]",
      "text/plain": [
       "<Figure size 432x288 with 1 Axes>"
      ]
     },
     "metadata": {
      "needs_background": "light"
     },
     "output_type": "display_data"
    }
   ],
   "source": [
    "#운영서비스(배차시간간격) x와 전반적만족도 y의 리스트 \n",
    "#보통 공공데이터는 enconding이 euc-kr 로 되어있다. \n",
    "\n",
    "\n",
    "df= pd.read_csv(\"한국교통안전공단_대중교통 이용실태별 만족도 현황 (2018년).csv\", encoding='euc-kr')\n",
    "\n",
    "\n",
    "x = df[\"운영서비스(배차시간간격)\"]\n",
    "y=df[\"전반적 만족도\"]\n",
    "\n",
    "plt.figure(figsize=(8,3))#넓이, 높이 \n",
    "plt.scatter(x,y)\n",
    "plt.show()\n",
    "\n",
    "#리스트로 되어있는 x와 y의 넘파이 배열로 바꿔준다. \n",
    "x_data = np.array(x) #기본적으로 파이썬은 리스트 -->객체, np.array -->배열, 같은타입으로 만든다는 뜻. ,메모리, 속도 빨라짐. \n",
    "y_data = np.array(y)\n",
    "\n",
    "#기울기 a와 절편 b의 값을 초기화 하자. \n",
    "a = 0\n",
    "b = 0\n",
    "\n",
    "\n",
    "#학습률\n",
    "#한번 학습할 때 얼마큼 이동할 것인가? #keras 는 Adm 을 쓴다. (알아서 결정해준다)\n",
    "\n",
    "lr = 0.01\n",
    "epoch= 5000\n",
    "\n",
    "#경사 하강법을 시작합시다.\n",
    "for i in range(epoch):\n",
    "    y_hat = a * x_data + b #y를 구하는 식을 세운다. , y hat은 예측값 \n",
    "    error = y_data - y_hat #오차 error = 실제값 - 예측값 \n",
    "    a_diff = -(1/len(x_data))*sum(x_data* (error)) #오차함수를 a로 미분한 값, a는 기울기, a는 가중치. \n",
    "#     print(a_diff)\n",
    "#     print(type(a_diff))\n",
    "    b_diff = -(1/len(x_data))*sum(error) #오차함수를 b로 미분한 값 \n",
    "    a = a-(lr*a_diff)#학습률을 곱해 기존의 a값을 업데이트함.\n",
    "    b = b -(lr*b_diff) #학습률을 곱해 기존의 b값을 업데이트함. \n",
    "    if i % 100 == 0 : #100번 반복할 때마다 현재의 a값, b값을 출력함. \n",
    "        print(\"epoch=%.f, 기울기=%.04f, 절편=%.04f, a_diff=%.04f\" % (i,a,b,a_diff))\n",
    "        \n",
    "\n",
    "# 앞서 구한 기울기와 절편을 이용해 그래프를 그려 봅니다.\n",
    "y_pred = a * x_data + b\n",
    "plt.scatter(x, y)\n",
    "plt.plot([min(x_data), max(x_data)], [min(y_pred), max(y_pred)])\n",
    "plt.show()\n"
   ]
  },
  {
   "cell_type": "code",
   "execution_count": 62,
   "metadata": {},
   "outputs": [],
   "source": []
  },
  {
   "cell_type": "code",
   "execution_count": 63,
   "metadata": {},
   "outputs": [
    {
     "data": {
      "text/plain": [
       "int"
      ]
     },
     "execution_count": 63,
     "metadata": {},
     "output_type": "execute_result"
    }
   ],
   "source": []
  },
  {
   "cell_type": "code",
   "execution_count": 64,
   "metadata": {},
   "outputs": [],
   "source": []
  },
  {
   "cell_type": "code",
   "execution_count": null,
   "metadata": {},
   "outputs": [],
   "source": []
  }
 ],
 "metadata": {
  "kernelspec": {
   "display_name": "Python 3",
   "language": "python",
   "name": "python3"
  },
  "language_info": {
   "codemirror_mode": {
    "name": "ipython",
    "version": 3
   },
   "file_extension": ".py",
   "mimetype": "text/x-python",
   "name": "python",
   "nbconvert_exporter": "python",
   "pygments_lexer": "ipython3",
   "version": "3.7.6"
  }
 },
 "nbformat": 4,
 "nbformat_minor": 4
}
